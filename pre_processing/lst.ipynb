{
 "cells": [
  {
   "cell_type": "code",
   "execution_count": 3,
   "metadata": {},
   "outputs": [],
   "source": [
    "from osgeo import gdal\n"
   ]
  },
  {
   "cell_type": "code",
   "execution_count": 5,
   "metadata": {},
   "outputs": [
    {
     "name": "stdout",
     "output_type": "stream",
     "text": [
      "Erro ao abrir o arquivo HDF.\n"
     ]
    },
    {
     "name": "stderr",
     "output_type": "stream",
     "text": [
      "ERROR 4: `MOD21A1N.A2024323.h13v11.061.2024324182504.hdf' not recognized as being in a supported file format.\n"
     ]
    }
   ],
   "source": [
    "# Caminho do arquivo HDF\n",
    "hdf_file = \"MOD21A1N.A2024323.h13v11.061.2024324182504.hdf\"\n",
    "\n",
    "# Tentar abrir o arquivo\n",
    "try:\n",
    "    hdf_dataset = gdal.Open(hdf_file)\n",
    "    if hdf_dataset is None:\n",
    "        print(\"Erro ao abrir o arquivo HDF.\")\n",
    "    else:\n",
    "        subdatasets = hdf_dataset.GetSubDatasets()\n",
    "        print(\"Subdatasets encontrados:\")\n",
    "        for idx, sds in enumerate(subdatasets):\n",
    "            print(f\"{idx}: {sds[0]}\")\n",
    "except Exception as e:\n",
    "    print(f\"Erro: {e}\")"
   ]
  }
 ],
 "metadata": {
  "kernelspec": {
   "display_name": "Python 3",
   "language": "python",
   "name": "python3"
  },
  "language_info": {
   "codemirror_mode": {
    "name": "ipython",
    "version": 3
   },
   "file_extension": ".py",
   "mimetype": "text/x-python",
   "name": "python",
   "nbconvert_exporter": "python",
   "pygments_lexer": "ipython3",
   "version": "3.10.15"
  }
 },
 "nbformat": 4,
 "nbformat_minor": 2
}
